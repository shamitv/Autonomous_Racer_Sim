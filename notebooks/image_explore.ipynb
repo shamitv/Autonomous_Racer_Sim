{
 "cells": [
  {
   "cell_type": "code",
   "execution_count": 1,
   "metadata": {},
   "outputs": [],
   "source": [
    "import os\n",
    "import pandas as pd\n",
    "from PIL import Image\n",
    "\n",
    "def readData():\n",
    "    #Hack to get path of Notebook (Data file is in same directory structure)\n",
    "    \n",
    "    if '_dh' in globals():\n",
    "        current_folder = globals()['_dh'][0]\n",
    "    else:\n",
    "        script_path=__file__\n",
    "        current_folder=dirname(script_path)\n",
    "\n",
    "    # Calculating path to the test data\n",
    "    data_location = os.path.join(current_folder,'..' ,'data' , 'set1' , 'data.xlsx')\n",
    "    data_location = os.path.normpath(data_location)\n",
    "    df = pd.read_excel(data_location)\n",
    "    return df\n",
    "\n",
    "def getImage(imgId):\n",
    "    #Hack to get path of Notebook (Data file is in same directory structure)\n",
    "    \n",
    "    if '_dh' in globals():\n",
    "        current_folder = globals()['_dh'][0]\n",
    "    else:\n",
    "        script_path=__file__\n",
    "        current_folder=dirname(script_path)\n",
    "    img_path = os.path.join(current_folder,'..' ,'data' , 'set1' , 'capture',str(imgId)+'.png')\n",
    "    img_path = os.path.normpath(img_path)\n",
    "    im = Image.open(img_path)\n",
    "    return im\n",
    "\n",
    "def getProcessedImage(imgId):\n",
    "    img=getImage(imgId)\n",
    "    #Convert to Grayscale\n",
    "    img=img.convert('LA')\n",
    "    #Resize to 128,128\n",
    "    size=128,128\n",
    "    img.thumbnail(size)\n",
    "    return img\n",
    "\n",
    "def getSampleGIF(sampleNum, seqSize):\n",
    "    first_img = sampleNum - seqSize\n",
    "    for id in range(first_img,sampleNum+1):\n",
    "        "
   ]
  },
  {
   "cell_type": "code",
   "execution_count": 2,
   "metadata": {},
   "outputs": [],
   "source": [
    "df = readData()"
   ]
  },
  {
   "cell_type": "code",
   "execution_count": 3,
   "metadata": {},
   "outputs": [
    {
     "data": {
      "image/png": "[encoded data removed]",
      "text/plain": [
       "<PIL.Image.Image image mode=LA size=128x97 at 0x227917405F8>"
      ]
     },
     "execution_count": 3,
     "metadata": {},
     "output_type": "execute_result"
    }
   ],
   "source": [
    "img=getProcessedImage(145)\n",
    "img"
   ]
  },
  {
   "cell_type": "code",
   "execution_count": null,
   "metadata": {},
   "outputs": [],
   "source": []
  },
  {
   "cell_type": "code",
   "execution_count": null,
   "metadata": {},
   "outputs": [],
   "source": []
  },
  {
   "cell_type": "code",
   "execution_count": null,
   "metadata": {},
   "outputs": [],
   "source": []
  }
 ],
 "metadata": {
  "kernelspec": {
   "display_name": "Python 3",
   "language": "python",
   "name": "python3"
  },
  "language_info": {
   "codemirror_mode": {
    "name": "ipython",
    "version": 3
   },
   "file_extension": ".py",
   "mimetype": "text/x-python",
   "name": "python",
   "nbconvert_exporter": "python",
   "pygments_lexer": "ipython3",
   "version": "3.6.4"
  }
 },
 "nbformat": 4,
 "nbformat_minor": 2
}
