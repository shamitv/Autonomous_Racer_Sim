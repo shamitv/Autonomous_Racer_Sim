{
 "cells": [
  {
   "cell_type": "code",
   "execution_count": 1,
   "metadata": {},
   "outputs": [],
   "source": [
    "import os\n",
    "import pandas as pd\n",
    "from PIL import Image\n",
    "from tempfile import NamedTemporaryFile\n",
    "import numpy as np\n",
    "\n",
    "#from IPython.display import Image\n",
    "\n",
    "def readData():\n",
    "    #Hack to get path of Notebook (Data file is in same directory structure)\n",
    "    \n",
    "    if '_dh' in globals():\n",
    "        current_folder = globals()['_dh'][0]\n",
    "    else:\n",
    "        script_path=__file__\n",
    "        current_folder=dirname(script_path)\n",
    "\n",
    "    # Calculating path to the test data\n",
    "    data_location = os.path.join(current_folder,'..' ,'data' , 'set1' , 'data.xlsx')\n",
    "    data_location = os.path.normpath(data_location)\n",
    "    df = pd.read_excel(data_location)\n",
    "    return df\n",
    "\n",
    "def getImage(imgId):\n",
    "    #Hack to get path of Notebook (Data file is in same directory structure)\n",
    "    \n",
    "    if '_dh' in globals():\n",
    "        current_folder = globals()['_dh'][0]\n",
    "    else:\n",
    "        script_path=__file__\n",
    "        current_folder=dirname(script_path)\n",
    "    img_path = os.path.join(current_folder,'..' ,'data' , 'set1' , 'capture',str(imgId)+'.png')\n",
    "    img_path = os.path.normpath(img_path)\n",
    "    im = Image.open(img_path)\n",
    "    return im\n",
    "\n",
    "def getProcessedImage(imgId):\n",
    "    img=getImage(imgId)\n",
    "    #Convert to Grayscale\n",
    "    img=img.convert('L')\n",
    "    #Resize to 128,128\n",
    "    size=128,128\n",
    "    #img.thumbnail(size)\n",
    "    return img\n",
    "\n",
    "def getFrames(sampleNum, seqSize):\n",
    "    first_img = sampleNum - seqSize\n",
    "    frames = []\n",
    "    for id in range(first_img,sampleNum):\n",
    "        frames.append(getProcessedImage(id))\n",
    "    return frames\n",
    "\n",
    "def getSampleGIF(sampleNum, seqSize):\n",
    "    frames = getFrames(sampleNum, seqSize)\n",
    "    tempFile = NamedTemporaryFile(suffix='.gif')    \n",
    "    frames[0].save(tempFile, format='GIF', append_images=frames[1:], save_all=True, duration=50, loop=1)\n",
    "    img=Image.open(tempFile)\n",
    "    return img"
   ]
  },
  {
   "cell_type": "code",
   "execution_count": 2,
   "metadata": {},
   "outputs": [],
   "source": [
    "df = readData()"
   ]
  },
  {
   "cell_type": "code",
   "execution_count": 3,
   "metadata": {},
   "outputs": [],
   "source": [
    "frames=getFrames(300,30)"
   ]
  },
  {
   "cell_type": "code",
   "execution_count": 4,
   "metadata": {},
   "outputs": [
    {
     "data": {
      "text/plain": [
       "30"
      ]
     },
     "execution_count": 4,
     "metadata": {},
     "output_type": "execute_result"
    }
   ],
   "source": [
    "len(frames)"
   ]
  },
  {
   "cell_type": "code",
   "execution_count": 5,
   "metadata": {},
   "outputs": [],
   "source": [
    "arr=[]\n",
    "for f in frames:\n",
    "    arr.append(np.array(f))"
   ]
  },
  {
   "cell_type": "code",
   "execution_count": 6,
   "metadata": {},
   "outputs": [
    {
     "data": {
      "text/plain": [
       "array([[255, 255, 255, ..., 255, 255, 255],\n",
       "       [255, 255, 255, ..., 255, 255, 255],\n",
       "       [255, 255, 255, ..., 255, 255, 255],\n",
       "       ...,\n",
       "       [255, 255, 255, ..., 255, 255, 255],\n",
       "       [255, 255, 255, ..., 255, 255, 255],\n",
       "       [255, 255, 255, ..., 255, 255, 255]], dtype=uint8)"
      ]
     },
     "execution_count": 6,
     "metadata": {},
     "output_type": "execute_result"
    }
   ],
   "source": [
    "arr[0]\n"
   ]
  },
  {
   "cell_type": "code",
   "execution_count": 7,
   "metadata": {},
   "outputs": [],
   "source": [
    "arr=np.array(arr)"
   ]
  },
  {
   "cell_type": "code",
   "execution_count": 8,
   "metadata": {},
   "outputs": [
    {
     "data": {
      "text/plain": [
       "(30, 502, 662)"
      ]
     },
     "execution_count": 8,
     "metadata": {},
     "output_type": "execute_result"
    }
   ],
   "source": [
    "arr.shape"
   ]
  },
  {
   "cell_type": "code",
   "execution_count": 13,
   "metadata": {},
   "outputs": [],
   "source": [
    "img = getSampleGIF(312, 60)"
   ]
  },
  {
   "cell_type": "code",
   "execution_count": 14,
   "metadata": {},
   "outputs": [
    {
     "data": {
      "image/png": "[encoded data removed]",
      "text/plain": [
       "<PIL.GifImagePlugin.GifImageFile image mode=L size=662x502 at 0x1E8ADDF77B8>"
      ]
     },
     "execution_count": 14,
     "metadata": {},
     "output_type": "execute_result"
    }
   ],
   "source": [
    "img"
   ]
  },
  {
   "cell_type": "code",
   "execution_count": null,
   "metadata": {},
   "outputs": [],
   "source": []
  }
 ],
 "metadata": {
  "kernelspec": {
   "display_name": "Python 3",
   "language": "python",
   "name": "python3"
  },
  "language_info": {
   "codemirror_mode": {
    "name": "ipython",
    "version": 3
   },
   "file_extension": ".py",
   "mimetype": "text/x-python",
   "name": "python",
   "nbconvert_exporter": "python",
   "pygments_lexer": "ipython3",
   "version": "3.6.8"
  }
 },
 "nbformat": 4,
 "nbformat_minor": 2
}
